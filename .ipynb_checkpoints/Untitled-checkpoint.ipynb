{
 "cells": [
  {
   "cell_type": "markdown",
   "id": "0fece33b-ad4a-40d6-a40c-20cf85254d53",
   "metadata": {},
   "source": [
    "# To install Librosa Library \n",
    "## pip install librosa"
   ]
  },
  {
   "cell_type": "markdown",
   "id": "ae2cfe6f-72bf-44ec-b951-6755e869b2f2",
   "metadata": {
    "tags": []
   },
   "source": [
    "# To install glob package\n",
    "## conda install -c anaconda glob2\n"
   ]
  },
  {
   "cell_type": "markdown",
   "id": "670f93d0-2718-4b33-acfb-370a1cf4d04e",
   "metadata": {},
   "source": [
    "# To install Numpy\n",
    "## pip install numpy"
   ]
  },
  {
   "cell_type": "markdown",
   "id": "20432f86-e8db-494c-8795-581ed8ab215e",
   "metadata": {},
   "source": [
    "# To install scipy\n",
    "## pip install scipy\n",
    "\n",
    "# To install matplotlib\n",
    "## pip install matplotlib\n",
    "\n",
    "# To install pickle\n",
    "## pip install pickle-mixin\n",
    "\n",
    "# To install noisereduce\n",
    "## pip install noisereduce\n"
   ]
  },
  {
   "cell_type": "code",
   "execution_count": null,
   "id": "1094ee49-85bb-46da-a08f-f2a685141697",
   "metadata": {},
   "outputs": [],
   "source": [
    "import tensorflow as tf \n",
    "print(tf.config.list_physical_devices('GPU'))\";"
   ]
  }
 ],
 "metadata": {
  "kernelspec": {
   "display_name": "Python 3 (ipykernel)",
   "language": "python",
   "name": "python3"
  },
  "language_info": {
   "codemirror_mode": {
    "name": "ipython",
    "version": 3
   },
   "file_extension": ".py",
   "mimetype": "text/x-python",
   "name": "python",
   "nbconvert_exporter": "python",
   "pygments_lexer": "ipython3",
   "version": "3.9.7"
  }
 },
 "nbformat": 4,
 "nbformat_minor": 5
}
