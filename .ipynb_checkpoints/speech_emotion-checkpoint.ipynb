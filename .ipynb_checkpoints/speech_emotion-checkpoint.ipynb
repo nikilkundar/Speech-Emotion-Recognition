{
 "cells": [
  {
   "cell_type": "markdown",
   "id": "0a64d7a6-ac63-4066-aaae-c6186d4ff66d",
   "metadata": {},
   "source": [
    "# Importing Modules"
   ]
  },
  {
   "cell_type": "code",
   "execution_count": 8,
   "id": "a8ea4827-2962-41e4-8e7a-a07ab1909067",
   "metadata": {},
   "outputs": [],
   "source": [
    "# Importing pandas and numpy for basic algebra and data processing\n",
    "import pandas as pd\n",
    "import numpy as np\n",
    "\n",
    "# To work with files, we import os package\n",
    "import os\n",
    "\n",
    "# For data visualisation, importing seaborn and matplotlib\n",
    "import matplotlib.pyplot as plt\n",
    "import seaborn as sns\n",
    "\n",
    "# For audio library files, importing librosa\n",
    "import librosa\n",
    "import librosa.display\n",
    "from IPython.display import Audio\n",
    "import glob\n",
    "\n",
    "import warnings \n",
    "warnings.filterwarnings('ignore')"
   ]
  },
  {
   "cell_type": "markdown",
   "id": "507d84b8-783a-4a06-ab9f-a2f786bac0e3",
   "metadata": {},
   "source": [
    "# Loading the dataset\n"
   ]
  },
  {
   "cell_type": "code",
   "execution_count": 12,
   "id": "41a41ce1-eddf-48db-bf18-de1c591c2485",
   "metadata": {},
   "outputs": [
    {
     "name": "stdout",
     "output_type": "stream",
     "text": [
      "\n",
      "Named with wildcard ranges:\n",
      "./RAVDESS Dataset\\Actor_01\n",
      "./RAVDESS Dataset\\Actor_02\n",
      "./RAVDESS Dataset\\Actor_04\n",
      "./RAVDESS Dataset\\Actor_10\n",
      "./RAVDESS Dataset\\Actor_11\n",
      "./RAVDESS Dataset\\Actor_12\n",
      "./RAVDESS Dataset\\Actor_14\n",
      "./RAVDESS Dataset\\Actor_20\n",
      "./RAVDESS Dataset\\Actor_21\n",
      "./RAVDESS Dataset\\Actor_22\n",
      "./RAVDESS Dataset\\Actor_24\n"
     ]
    }
   ],
   "source": [
    "def getListOfFiles(dirName):\n",
    "    listOfFile=os.listdir(dirName)\n",
    "    allFiles=list()\n",
    "    for entry in listOfFile:\n",
    "        fullPath=os.path.join(dirName, entry)\n",
    "        if os.path.isdir(fullPath):\n",
    "            allFiles=allFiles + getListOfFiles(fullPath)\n",
    "        else:\n",
    "            allFiles.append(fullPath)\n",
    "    return allFiles"
   ]
  }
 ],
 "metadata": {
  "kernelspec": {
   "display_name": "Python 3 (ipykernel)",
   "language": "python",
   "name": "python3"
  },
  "language_info": {
   "codemirror_mode": {
    "name": "ipython",
    "version": 3
   },
   "file_extension": ".py",
   "mimetype": "text/x-python",
   "name": "python",
   "nbconvert_exporter": "python",
   "pygments_lexer": "ipython3",
   "version": "3.9.7"
  }
 },
 "nbformat": 4,
 "nbformat_minor": 5
}
