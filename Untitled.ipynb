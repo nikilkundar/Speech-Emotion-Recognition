{
 "cells": [
  {
   "cell_type": "markdown",
   "id": "0fece33b-ad4a-40d6-a40c-20cf85254d53",
   "metadata": {},
   "source": [
    "# To install Librosa Library \n",
    "## pip install librosa"
   ]
  },
  {
   "cell_type": "markdown",
   "id": "ae2cfe6f-72bf-44ec-b951-6755e869b2f2",
   "metadata": {
    "tags": []
   },
   "source": [
    "# To install glob package\n",
    "## conda install -c anaconda glob2\n"
   ]
  },
  {
   "cell_type": "markdown",
   "id": "670f93d0-2718-4b33-acfb-370a1cf4d04e",
   "metadata": {},
   "source": [
    "# To install Numpy\n",
    "## pip install numpy"
   ]
  },
  {
   "cell_type": "markdown",
   "id": "20432f86-e8db-494c-8795-581ed8ab215e",
   "metadata": {},
   "source": [
    "# To install scipy\n",
    "## pip install scipy\n",
    "\n",
    "# To install matplotlib\n",
    "## pip install matplotlib\n",
    "\n",
    "# To install pickle\n",
    "## pip install pickle-mixin\n",
    "\n",
    "# To install noisereduce\n",
    "## pip install noisereduce\n"
   ]
  },
  {
   "cell_type": "code",
   "execution_count": null,
   "id": "1094ee49-85bb-46da-a08f-f2a685141697",
   "metadata": {},
   "outputs": [],
   "source": [
    "import tensorflow as tf \n",
    "print(tf.config.list_physical_devices('GPU'))\";"
   ]
  },
  {
   "cell_type": "code",
   "execution_count": null,
   "id": "6a0621e7-78a5-490e-886a-2b6b8cbee6cd",
   "metadata": {},
   "outputs": [],
   "source": [
    "for i in data:\n",
    "    if data['tess']:\n",
    "        for dirname, _, filenames in os.walk('../SpeechEmotionRecognition/TESSDataset'):\n",
    "            for filename in filenames:\n",
    "                paths.append(os.path.join(dirname, filename))\n",
    "                label=filename.split(\"_\")[2][:-4]\n",
    "                if label == 'ps':\n",
    "                    label = 'surprised'\n",
    "                if label not in observed_emotions: \n",
    "                    continue\n",
    "                labels.append(label.lower())\n",
    "                \n",
    "    if data['ravdess']:\n",
    "        for dirname, _, filenames in os.walk('../SpeechEmotionRecognition/RAVDESSDataset'):\n",
    "            for filename in filenames:\n",
    "                paths.append(os.path.join(dirname, filename))\n",
    "                label=filename.split(\"-\")[2]\n",
    "                if label not in observed_emotions: \n",
    "                    continue\n",
    "                labels.append(label)"
   ]
  },
  {
   "cell_type": "code",
   "execution_count": 1,
   "id": "bbb3b509-fb6a-47ae-890f-0479ba65e929",
   "metadata": {},
   "outputs": [
    {
     "name": "stdout",
     "output_type": "stream",
     "text": [
      "Requirement already satisfied: tqdm in e:\\anaconda\\lib\\site-packages (4.62.3)Note: you may need to restart the kernel to use updated packages.\n",
      "\n",
      "Requirement already satisfied: colorama in e:\\anaconda\\lib\\site-packages (from tqdm) (0.4.4)\n"
     ]
    }
   ],
   "source": [
    "pip install tqdm"
   ]
  }
 ],
 "metadata": {
  "kernelspec": {
   "display_name": "Python 3 (ipykernel)",
   "language": "python",
   "name": "python3"
  },
  "language_info": {
   "codemirror_mode": {
    "name": "ipython",
    "version": 3
   },
   "file_extension": ".py",
   "mimetype": "text/x-python",
   "name": "python",
   "nbconvert_exporter": "python",
   "pygments_lexer": "ipython3",
   "version": "3.9.7"
  }
 },
 "nbformat": 4,
 "nbformat_minor": 5
}
